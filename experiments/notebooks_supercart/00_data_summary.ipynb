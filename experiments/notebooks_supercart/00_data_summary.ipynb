{
 "cells": [
  {
   "cell_type": "code",
   "execution_count": 15,
   "metadata": {},
   "outputs": [
    {
     "name": "stdout",
     "output_type": "stream",
     "text": [
      "The autoreload extension is already loaded. To reload it, use:\n",
      "  %reload_ext autoreload\n"
     ]
    }
   ],
   "source": [
    "%load_ext autoreload\n",
    "%autoreload 2\n",
    "import os\n",
    "import pickle as pkl\n",
    "from typing import Dict, Any\n",
    "\n",
    "import numpy as np\n",
    "import pandas as pd\n",
    "from sklearn.datasets import fetch_openml\n",
    "import matplotlib as mpl\n",
    "import matplotlib.pyplot as plt\n",
    "from copy import deepcopy\n",
    "mpl.rcParams['figure.dpi'] = 250\n",
    "\n",
    "# change working directory to project root\n",
    "if os.getcwd().split('/')[-1] == 'notebooks':\n",
    "    os.chdir('../..')\n",
    "from experiments.notebooks import viz\n",
    "from experiments.data_util import get_clean_dataset\n",
    "from experiments.config.datasets import DATASETS_CLASSIFICATION, DATASETS_REGRESSION\n",
    "from pmlb import fetch_data, classification_dataset_names\n",
    "pd.options.display.max_rows = 100"
   ]
  },
  {
   "cell_type": "markdown",
   "metadata": {},
   "source": [
    "# classification dataset stats"
   ]
  },
  {
   "cell_type": "code",
   "execution_count": 16,
   "metadata": {},
   "outputs": [
    {
     "data": {
      "text/html": [
       "<div>\n",
       "<style scoped>\n",
       "    .dataframe tbody tr th:only-of-type {\n",
       "        vertical-align: middle;\n",
       "    }\n",
       "\n",
       "    .dataframe tbody tr th {\n",
       "        vertical-align: top;\n",
       "    }\n",
       "\n",
       "    .dataframe thead th {\n",
       "        text-align: right;\n",
       "    }\n",
       "</style>\n",
       "<table border=\"1\" class=\"dataframe\">\n",
       "  <thead>\n",
       "    <tr style=\"text-align: right;\">\n",
       "      <th></th>\n",
       "      <th>Name</th>\n",
       "      <th>Samples</th>\n",
       "      <th>Features</th>\n",
       "      <th>Class 0</th>\n",
       "      <th>Class 1</th>\n",
       "      <th>Majority class %</th>\n",
       "    </tr>\n",
       "  </thead>\n",
       "  <tbody>\n",
       "    <tr>\n",
       "      <th>5</th>\n",
       "      <td>Sonar</td>\n",
       "      <td>208</td>\n",
       "      <td>60</td>\n",
       "      <td>111</td>\n",
       "      <td>97</td>\n",
       "      <td>53.4</td>\n",
       "    </tr>\n",
       "    <tr>\n",
       "      <th>0</th>\n",
       "      <td>Heart</td>\n",
       "      <td>270</td>\n",
       "      <td>15</td>\n",
       "      <td>150</td>\n",
       "      <td>120</td>\n",
       "      <td>55.6</td>\n",
       "    </tr>\n",
       "    <tr>\n",
       "      <th>1</th>\n",
       "      <td>Breast-cancer</td>\n",
       "      <td>277</td>\n",
       "      <td>17</td>\n",
       "      <td>196</td>\n",
       "      <td>81</td>\n",
       "      <td>70.8</td>\n",
       "    </tr>\n",
       "    <tr>\n",
       "      <th>2</th>\n",
       "      <td>Haberman</td>\n",
       "      <td>306</td>\n",
       "      <td>3</td>\n",
       "      <td>81</td>\n",
       "      <td>225</td>\n",
       "      <td>73.5</td>\n",
       "    </tr>\n",
       "    <tr>\n",
       "      <th>3</th>\n",
       "      <td>Ionosphere</td>\n",
       "      <td>351</td>\n",
       "      <td>34</td>\n",
       "      <td>126</td>\n",
       "      <td>225</td>\n",
       "      <td>64.1</td>\n",
       "    </tr>\n",
       "    <tr>\n",
       "      <th>4</th>\n",
       "      <td>Diabetes</td>\n",
       "      <td>768</td>\n",
       "      <td>8</td>\n",
       "      <td>500</td>\n",
       "      <td>268</td>\n",
       "      <td>65.1</td>\n",
       "    </tr>\n",
       "    <tr>\n",
       "      <th>6</th>\n",
       "      <td>Credit-g</td>\n",
       "      <td>1000</td>\n",
       "      <td>60</td>\n",
       "      <td>300</td>\n",
       "      <td>700</td>\n",
       "      <td>70.0</td>\n",
       "    </tr>\n",
       "    <tr>\n",
       "      <th>7</th>\n",
       "      <td>Juvenile</td>\n",
       "      <td>3640</td>\n",
       "      <td>286</td>\n",
       "      <td>3153</td>\n",
       "      <td>487</td>\n",
       "      <td>86.6</td>\n",
       "    </tr>\n",
       "    <tr>\n",
       "      <th>8</th>\n",
       "      <td>Recidivism</td>\n",
       "      <td>6172</td>\n",
       "      <td>20</td>\n",
       "      <td>3182</td>\n",
       "      <td>2990</td>\n",
       "      <td>51.6</td>\n",
       "    </tr>\n",
       "    <tr>\n",
       "      <th>9</th>\n",
       "      <td>Credit</td>\n",
       "      <td>30000</td>\n",
       "      <td>33</td>\n",
       "      <td>23364</td>\n",
       "      <td>6636</td>\n",
       "      <td>77.9</td>\n",
       "    </tr>\n",
       "  </tbody>\n",
       "</table>\n",
       "</div>"
      ],
      "text/plain": [
       "            Name  Samples  Features  Class 0  Class 1  Majority class %\n",
       "5          Sonar      208        60      111       97              53.4\n",
       "0          Heart      270        15      150      120              55.6\n",
       "1  Breast-cancer      277        17      196       81              70.8\n",
       "2       Haberman      306         3       81      225              73.5\n",
       "3     Ionosphere      351        34      126      225              64.1\n",
       "4       Diabetes      768         8      500      268              65.1\n",
       "6       Credit-g     1000        60      300      700              70.0\n",
       "7       Juvenile     3640       286     3153      487              86.6\n",
       "8     Recidivism     6172        20     3182     2990              51.6\n",
       "9         Credit    30000        33    23364     6636              77.9"
      ]
     },
     "execution_count": 16,
     "metadata": {},
     "output_type": "execute_result"
    }
   ],
   "source": [
    "metadata = []\n",
    "columns = ['Name', 'Samples', 'Features', 'Class 0', 'Class 1', 'Majority class %']\n",
    "for dset_name, dset_file, data_source in DATASETS_CLASSIFICATION:\n",
    "    X, y, feat_names = get_clean_dataset(dset_file, data_source)\n",
    "#     X = np.nan_to_num(X, 0)\n",
    "    shape = X.shape\n",
    "    class_counts = np.unique(y, return_counts=True)[1]\n",
    "    metadata.append([dset_name.capitalize(), shape[0], shape[1], class_counts[0], class_counts[1],\n",
    "                     np.round(100 * np.max(class_counts) / np.sum(class_counts), decimals=1)])\n",
    "\n",
    "metadata = pd.DataFrame(metadata, columns=columns).sort_values(by=['Samples']) #.set_index('Name')\n",
    "# print(metadata.to_latex(index=False))\n",
    "metadata"
   ]
  },
  {
   "cell_type": "markdown",
   "metadata": {},
   "source": [
    "# regression dataset names\n"
   ]
  },
  {
   "cell_type": "code",
   "execution_count": 14,
   "metadata": {
    "scrolled": false
   },
   "outputs": [
    {
     "data": {
      "text/html": [
       "<div>\n",
       "<style scoped>\n",
       "    .dataframe tbody tr th:only-of-type {\n",
       "        vertical-align: middle;\n",
       "    }\n",
       "\n",
       "    .dataframe tbody tr th {\n",
       "        vertical-align: top;\n",
       "    }\n",
       "\n",
       "    .dataframe thead th {\n",
       "        text-align: right;\n",
       "    }\n",
       "</style>\n",
       "<table border=\"1\" class=\"dataframe\">\n",
       "  <thead>\n",
       "    <tr style=\"text-align: right;\">\n",
       "      <th></th>\n",
       "      <th>Name</th>\n",
       "      <th>Samples</th>\n",
       "      <th>Features</th>\n",
       "      <th>Mean</th>\n",
       "      <th>Std</th>\n",
       "      <th>Min</th>\n",
       "      <th>Max</th>\n",
       "    </tr>\n",
       "  </thead>\n",
       "  <tbody>\n",
       "    <tr>\n",
       "      <th>0</th>\n",
       "      <td>Diabetes</td>\n",
       "      <td>442</td>\n",
       "      <td>10</td>\n",
       "      <td>152.13</td>\n",
       "      <td>77.01</td>\n",
       "      <td>25.0</td>\n",
       "      <td>346.00</td>\n",
       "    </tr>\n",
       "    <tr>\n",
       "      <th>1</th>\n",
       "      <td>California-housing</td>\n",
       "      <td>442</td>\n",
       "      <td>10</td>\n",
       "      <td>152.13</td>\n",
       "      <td>77.01</td>\n",
       "      <td>25.0</td>\n",
       "      <td>346.00</td>\n",
       "    </tr>\n",
       "    <tr>\n",
       "      <th>3</th>\n",
       "      <td>Satellite-image</td>\n",
       "      <td>6435</td>\n",
       "      <td>36</td>\n",
       "      <td>3.67</td>\n",
       "      <td>2.21</td>\n",
       "      <td>1.0</td>\n",
       "      <td>7.00</td>\n",
       "    </tr>\n",
       "    <tr>\n",
       "      <th>2</th>\n",
       "      <td>Echo-months</td>\n",
       "      <td>17496</td>\n",
       "      <td>9</td>\n",
       "      <td>21.99</td>\n",
       "      <td>15.79</td>\n",
       "      <td>-4.4</td>\n",
       "      <td>74.56</td>\n",
       "    </tr>\n",
       "  </tbody>\n",
       "</table>\n",
       "</div>"
      ],
      "text/plain": [
       "                 Name  Samples  Features    Mean    Std   Min     Max\n",
       "0            Diabetes      442        10  152.13  77.01  25.0  346.00\n",
       "1  California-housing      442        10  152.13  77.01  25.0  346.00\n",
       "3     Satellite-image     6435        36    3.67   2.21   1.0    7.00\n",
       "2         Echo-months    17496         9   21.99  15.79  -4.4   74.56"
      ]
     },
     "execution_count": 14,
     "metadata": {},
     "output_type": "execute_result"
    }
   ],
   "source": [
    "metadata = []\n",
    "columns = ['Name', 'Samples', 'Features', 'Mean', 'Std', 'Min', \"Max\"]\n",
    "for dset_name, dset_file, data_source in DATASETS_REGRESSION:\n",
    "#     print(dset_name, dset_file, data_source)\n",
    "    X, y, feat_names = get_clean_dataset(dset_file, data_source)\n",
    "#     X = np.nan_to_num(X, 0)\n",
    "#     print(y.dtype)\n",
    "#     print(np.unique(y))\n",
    "    shape = X.shape\n",
    "    metadata.append([dset_name.capitalize(), shape[0], shape[1], np.mean(y), np.std(y), np.min(y), np.max(y)])\n",
    "\n",
    "metadata = pd.DataFrame(metadata, columns=columns).round(2).sort_values(by=['Samples'])\n",
    "#.set_index('Name')\n",
    "# print(metadata.to_latex(index=False))\n",
    "metadata"
   ]
  },
  {
   "cell_type": "code",
   "execution_count": 27,
   "metadata": {
    "collapsed": true
   },
   "outputs": [
    {
     "name": "stdout",
     "output_type": "stream",
     "text": [
      "shapes (200, 10) (200,) [ 4.29274646  5.36615368  5.55082675  5.97563545  6.20020115  6.51147375\n",
      "  6.89021325  6.98524401  7.00902427  7.01048771  7.3444899   7.48450688\n",
      "  7.53110525  7.67707685  7.77389502  8.27914882  8.29154257  8.3102553\n",
      "  8.3582545   8.42176319  8.46476353  8.66902705  8.70593519  8.77762688\n",
      "  8.92253206  8.97169255  9.23093166  9.23659141  9.26638846  9.29191947\n",
      "  9.30481259  9.37683198  9.40237025  9.42495214  9.50635669  9.61521725\n",
      "  9.86924201  9.91052942 10.11500763 10.11841681 10.33614855 10.33802665\n",
      " 10.37158605 10.4581507  10.50852981 10.67958439 10.71460291 10.74925081\n",
      " 10.82406405 10.86913601 10.95127937 11.04786898 11.17520167 11.20125918\n",
      " 11.26368775 11.28052703 11.37464809 11.42237506 11.63321113 11.68437801\n",
      " 11.70989906 11.88588893 11.89777415 11.95008549 12.01151876 12.0711667\n",
      " 12.09296492 12.09855988 12.13444683 12.344002   12.39760798 12.43158256\n",
      " 12.45793674 12.59333681 12.62680235 12.8919753  12.92168783 12.92467318\n",
      " 12.97498566 13.05341425 13.11208514 13.11411642 13.13138771 13.22473023\n",
      " 13.35939462 13.40039009 13.46770091 13.53019189 13.62481003 13.62733477\n",
      " 13.63328281 13.66145977 13.67912007 13.98778011 14.05517591 14.09688726\n",
      " 14.13483726 14.31997363 14.56227759 14.70741731 14.84986939 14.85870618\n",
      " 14.92838231 15.06399281 15.09025776 15.14950199 15.19399282 15.44459459\n",
      " 15.49644468 15.52186179 15.56605877 15.71043709 15.7653248  15.79780269\n",
      " 15.80402918 15.86251093 15.87571849 15.88569549 15.98780602 16.00927919\n",
      " 16.0349282  16.21183928 16.22587129 16.24027289 16.30754306 16.33829423\n",
      " 16.47056253 16.48544808 16.58475141 16.59994139 16.7818029  16.87705647\n",
      " 16.9607041  17.01650758 17.07321719 17.10689093 17.23932572 17.32056302\n",
      " 17.63828842 17.7543741  17.87618794 17.96003282 17.97910451 18.00093061\n",
      " 18.06225713 18.11122786 18.15504589 18.18702266 18.194638   18.47775291\n",
      " 18.57655143 18.65634998 18.67932608 18.68560174 18.85595673 19.03695353\n",
      " 19.10506917 19.36135962 19.38250263 19.55850801 19.78404979 19.9919545\n",
      " 20.00789376 20.05273711 20.09470816 20.21713294 20.346586   20.48638878\n",
      " 20.61883457 20.75091169 20.75770182 20.79537886 20.84284674 20.87569819\n",
      " 21.15253444 21.28928859 21.33927174 21.34633556 21.46793328 21.7092071\n",
      " 21.89912943 22.30216569 22.3277322  22.33666701 22.38000348 22.41329832\n",
      " 22.44137571 22.50171364 22.73973037 22.88202428 22.95029227 23.11425641\n",
      " 23.28098508 23.59386012 23.68562968 23.7275467  23.83255226 25.02355288\n",
      " 25.257598   25.50206429]\n"
     ]
    }
   ],
   "source": [
    "from imodels import C45TreeClassifier\n",
    "X, y, feature_names = get_clean_dataset('friedman1', data_source='synthetic')\n",
    "print('shapes', X.shape, y.shape, np.unique(y))"
   ]
  },
  {
   "cell_type": "code",
   "execution_count": 8,
   "metadata": {},
   "outputs": [
    {
     "data": {
      "text/plain": [
       "(768, 8)"
      ]
     },
     "execution_count": 8,
     "metadata": {},
     "output_type": "execute_result"
    }
   ],
   "source": [
    "m = C45TreeClassifier(max_rules=100)\n",
    "m.fit(X, y)\n",
    "print('mse', np.mean(np.square(m.predict(X) - y)))\n",
    "print(m)"
   ]
  },
  {
   "cell_type": "code",
   "execution_count": 9,
   "metadata": {},
   "outputs": [
    {
     "data": {
      "text/plain": [
       "(768,)"
      ]
     },
     "execution_count": 9,
     "metadata": {},
     "output_type": "execute_result"
    }
   ],
   "source": [
    "y.shape"
   ]
  },
  {
   "cell_type": "code",
   "execution_count": 5,
   "metadata": {},
   "outputs": [],
   "source": [
    "X, y, feature_names = get_clean_dataset('59', data_source='openml')"
   ]
  },
  {
   "cell_type": "code",
   "execution_count": 6,
   "metadata": {},
   "outputs": [
    {
     "data": {
      "text/plain": [
       "(351, 34)"
      ]
     },
     "execution_count": 6,
     "metadata": {},
     "output_type": "execute_result"
    }
   ],
   "source": [
    "X.shape"
   ]
  },
  {
   "cell_type": "code",
   "execution_count": null,
   "metadata": {},
   "outputs": [],
   "source": []
  }
 ],
 "metadata": {
  "jupytext": {
   "formats": "ipynb,../../tests/notebooks//py:percent"
  },
  "kernelspec": {
   "display_name": "Python 3 (ipykernel)",
   "language": "python",
   "name": "python3"
  },
  "language_info": {
   "codemirror_mode": {
    "name": "ipython",
    "version": 3
   },
   "file_extension": ".py",
   "mimetype": "text/x-python",
   "name": "python",
   "nbconvert_exporter": "python",
   "pygments_lexer": "ipython3",
   "version": "3.7.0"
  }
 },
 "nbformat": 4,
 "nbformat_minor": 4
}
