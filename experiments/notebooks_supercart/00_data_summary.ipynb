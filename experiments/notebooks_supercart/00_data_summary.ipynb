{
 "cells": [
  {
   "cell_type": "code",
   "execution_count": 1,
   "metadata": {},
   "outputs": [
    {
     "name": "stdout",
     "output_type": "stream",
     "text": [
      "/Volumes/GoogleDrive/My Drive/research/rules/imodels/experiments/notebooks\n"
     ]
    }
   ],
   "source": [
    "%load_ext autoreload\n",
    "%autoreload 2\n",
    "import os\n",
    "import pickle as pkl\n",
    "from typing import Dict, Any\n",
    "\n",
    "import numpy as np\n",
    "import pandas as pd\n",
    "from sklearn.datasets import fetch_openml\n",
    "import matplotlib as mpl\n",
    "import matplotlib.pyplot as plt\n",
    "from copy import deepcopy\n",
    "mpl.rcParams['figure.dpi'] = 250\n",
    "\n",
    "# change working directory to project root\n",
    "if os.getcwd().split('/')[-1] == 'notebooks':\n",
    "    os.chdir('../..')\n",
    "from experiments.notebooks import viz\n",
    "from experiments.data_util import get_clean_dataset\n",
    "from experiments.config.datasets import DATASETS"
   ]
  },
  {
   "cell_type": "markdown",
   "metadata": {},
   "source": [
    "# dataset stats"
   ]
  },
  {
   "cell_type": "code",
   "execution_count": 4,
   "metadata": {},
   "outputs": [
    {
     "data": {
      "text/html": [
       "<div>\n",
       "<style scoped>\n",
       "    .dataframe tbody tr th:only-of-type {\n",
       "        vertical-align: middle;\n",
       "    }\n",
       "\n",
       "    .dataframe tbody tr th {\n",
       "        vertical-align: top;\n",
       "    }\n",
       "\n",
       "    .dataframe thead th {\n",
       "        text-align: right;\n",
       "    }\n",
       "</style>\n",
       "<table border=\"1\" class=\"dataframe\">\n",
       "  <thead>\n",
       "    <tr style=\"text-align: right;\">\n",
       "      <th></th>\n",
       "      <th>Name</th>\n",
       "      <th>Samples</th>\n",
       "      <th>Features</th>\n",
       "      <th>Class 0</th>\n",
       "      <th>Class 1</th>\n",
       "      <th>Majority class %</th>\n",
       "    </tr>\n",
       "  </thead>\n",
       "  <tbody>\n",
       "    <tr>\n",
       "      <th>0</th>\n",
       "      <td>Recidivism</td>\n",
       "      <td>6172</td>\n",
       "      <td>20</td>\n",
       "      <td>3182</td>\n",
       "      <td>2990</td>\n",
       "      <td>51.6</td>\n",
       "    </tr>\n",
       "    <tr>\n",
       "      <th>1</th>\n",
       "      <td>Credit</td>\n",
       "      <td>30000</td>\n",
       "      <td>33</td>\n",
       "      <td>23364</td>\n",
       "      <td>6636</td>\n",
       "      <td>77.9</td>\n",
       "    </tr>\n",
       "    <tr>\n",
       "      <th>2</th>\n",
       "      <td>Juvenile</td>\n",
       "      <td>3640</td>\n",
       "      <td>286</td>\n",
       "      <td>3153</td>\n",
       "      <td>487</td>\n",
       "      <td>86.6</td>\n",
       "    </tr>\n",
       "    <tr>\n",
       "      <th>3</th>\n",
       "      <td>Readmission</td>\n",
       "      <td>101763</td>\n",
       "      <td>150</td>\n",
       "      <td>54861</td>\n",
       "      <td>46902</td>\n",
       "      <td>53.9</td>\n",
       "    </tr>\n",
       "    <tr>\n",
       "      <th>4</th>\n",
       "      <td>Breast-cancer</td>\n",
       "      <td>277</td>\n",
       "      <td>17</td>\n",
       "      <td>196</td>\n",
       "      <td>81</td>\n",
       "      <td>70.8</td>\n",
       "    </tr>\n",
       "    <tr>\n",
       "      <th>5</th>\n",
       "      <td>Credit-g</td>\n",
       "      <td>1000</td>\n",
       "      <td>60</td>\n",
       "      <td>300</td>\n",
       "      <td>700</td>\n",
       "      <td>70.0</td>\n",
       "    </tr>\n",
       "    <tr>\n",
       "      <th>6</th>\n",
       "      <td>Haberman</td>\n",
       "      <td>306</td>\n",
       "      <td>3</td>\n",
       "      <td>81</td>\n",
       "      <td>225</td>\n",
       "      <td>73.5</td>\n",
       "    </tr>\n",
       "    <tr>\n",
       "      <th>7</th>\n",
       "      <td>Heart</td>\n",
       "      <td>270</td>\n",
       "      <td>15</td>\n",
       "      <td>150</td>\n",
       "      <td>120</td>\n",
       "      <td>55.6</td>\n",
       "    </tr>\n",
       "  </tbody>\n",
       "</table>\n",
       "</div>"
      ],
      "text/plain": [
       "            Name  Samples  Features  Class 0  Class 1  Majority class %\n",
       "0     Recidivism     6172        20     3182     2990              51.6\n",
       "1         Credit    30000        33    23364     6636              77.9\n",
       "2       Juvenile     3640       286     3153      487              86.6\n",
       "3    Readmission   101763       150    54861    46902              53.9\n",
       "4  Breast-cancer      277        17      196       81              70.8\n",
       "5       Credit-g     1000        60      300      700              70.0\n",
       "6       Haberman      306         3       81      225              73.5\n",
       "7          Heart      270        15      150      120              55.6"
      ]
     },
     "execution_count": 4,
     "metadata": {},
     "output_type": "execute_result"
    }
   ],
   "source": [
    "metadata = []\n",
    "columns = ['Name', 'Samples', 'Features', 'Class 0', 'Class 1', 'Majority class %']\n",
    "for dset_name, dset_file in DATASETS:\n",
    "    X, y, feat_names = get_clean_dataset(dset_file)\n",
    "#     X = np.nan_to_num(X, 0)\n",
    "    shape = X.shape\n",
    "    class_counts = np.unique(y, return_counts=True)[1]\n",
    "    metadata.append([dset_name.capitalize(), shape[0], shape[1], class_counts[0], class_counts[1],\n",
    "                     np.round(100 * np.max(class_counts) / np.sum(class_counts), decimals=1)])\n",
    "\n",
    "metadata = pd.DataFrame(metadata, columns=columns) #.set_index('Name')\n",
    "metadata"
   ]
  },
  {
   "cell_type": "code",
   "execution_count": 5,
   "metadata": {
    "pycharm": {
     "name": "#%%\n"
    }
   },
   "outputs": [
    {
     "name": "stdout",
     "output_type": "stream",
     "text": [
      "\\begin{tabular}{lrrrrr}\n",
      "\\toprule\n",
      "         Name &  Samples &  Features &  Class 0 &  Class 1 &  Majority class \\% \\\\\n",
      "\\midrule\n",
      "   Recidivism &     6172 &        20 &     3182 &     2990 &              51.6 \\\\\n",
      "       Credit &    30000 &        33 &    23364 &     6636 &              77.9 \\\\\n",
      "     Juvenile &     3640 &       286 &     3153 &      487 &              86.6 \\\\\n",
      "  Readmission &   101763 &       150 &    54861 &    46902 &              53.9 \\\\\n",
      "Breast-cancer &      277 &        17 &      196 &       81 &              70.8 \\\\\n",
      "     Credit-g &     1000 &        60 &      300 &      700 &              70.0 \\\\\n",
      "     Haberman &      306 &         3 &       81 &      225 &              73.5 \\\\\n",
      "        Heart &      270 &        15 &      150 &      120 &              55.6 \\\\\n",
      "\\bottomrule\n",
      "\\end{tabular}\n",
      "\n"
     ]
    }
   ],
   "source": [
    "print(metadata.to_latex(index=False))"
   ]
  }
 ],
 "metadata": {
  "jupytext": {
   "formats": "ipynb,../../tests/notebooks//py:percent"
  },
  "kernelspec": {
   "display_name": "Python 3 (ipykernel)",
   "language": "python",
   "name": "python3"
  },
  "language_info": {
   "codemirror_mode": {
    "name": "ipython",
    "version": 3
   },
   "file_extension": ".py",
   "mimetype": "text/x-python",
   "name": "python",
   "nbconvert_exporter": "python",
   "pygments_lexer": "ipython3",
   "version": "3.7.0"
  }
 },
 "nbformat": 4,
 "nbformat_minor": 4
}
